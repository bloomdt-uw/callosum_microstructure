{
 "cells": [
  {
   "cell_type": "markdown",
   "metadata": {},
   "source": [
    "# Sparse Group Lasso (SGL)\n",
    "\n",
    "Run Sparse Group Lasso (SGL) on the Human Connectome Project Young Adult (HCP-YA) 1200 Subject Release bundle profiles processed with pyAFQ probalistic Constrained Spherical Deconvolution (CSD) tractometry with Diffusion Kurtosis Imaging model (DKI) scalars:\n",
    "- Fractional Anisotropy (FA)\n",
    "- Mean Diffusivity (MD)\n",
    "- Mean Kurtosis (MK)\n",
    "- Axonal Water Fraction (AWF)\n",
    "\n",
    "**Goal** Identify variance explained in Reading Scores attributed to white matter"
   ]
  },
  {
   "cell_type": "markdown",
   "metadata": {},
   "source": [
    "##### Runtime Environment Dependency Checks"
   ]
  },
  {
   "cell_type": "markdown",
   "metadata": {},
   "source": [
    "Ensure AFQ Insight version"
   ]
  },
  {
   "cell_type": "raw",
   "metadata": {},
   "source": [
    "!pip install afqinsight"
   ]
  },
  {
   "cell_type": "raw",
   "metadata": {},
   "source": [
    "def afqi_version():\n",
    "    import afqinsight as afqi\n",
    "    print(afqi.__version__)\n",
    "afqi_version()"
   ]
  },
  {
   "cell_type": "markdown",
   "metadata": {},
   "source": [
    "Ensure correct version of sklearn:\n",
    "https://github.com/scikit-optimize/scikit-optimize/issues/978"
   ]
  },
  {
   "cell_type": "raw",
   "metadata": {},
   "source": [
    "!pip uninstall scikit-learn\n",
    "!pip install scikit-learn==0.23.2"
   ]
  },
  {
   "cell_type": "raw",
   "metadata": {},
   "source": [
    "!pip freeze | grep scikit-learn\n",
    "!conda list | grep scikit-learn"
   ]
  },
  {
   "cell_type": "code",
   "execution_count": 23,
   "metadata": {},
   "outputs": [
    {
     "name": "stdout",
     "output_type": "stream",
     "text": [
      "0.23.2\n"
     ]
    }
   ],
   "source": [
    "def sklearn_version():\n",
    "    import pkg_resources\n",
    "    pkg_resources.require(\"scikit-learn==0.23.2\")\n",
    "    import sklearn\n",
    "    print(sklearn.__version__)\n",
    "    \n",
    "sklearn_version()"
   ]
  },
  {
   "cell_type": "markdown",
   "metadata": {},
   "source": [
    "Ensure correct version of scipy: https://github.com/scikit-optimize/scikit-optimize/issues/981"
   ]
  },
  {
   "cell_type": "raw",
   "metadata": {},
   "source": [
    "!pip freeze | grep scipy\n",
    "!conda list | grep scipy"
   ]
  },
  {
   "cell_type": "raw",
   "metadata": {},
   "source": [
    "!pip uninstall scipy -y\n",
    "!pip install scipy==1.5.3"
   ]
  },
  {
   "cell_type": "code",
   "execution_count": 24,
   "metadata": {},
   "outputs": [
    {
     "name": "stdout",
     "output_type": "stream",
     "text": [
      "1.5.3\n"
     ]
    }
   ],
   "source": [
    "def scipy_version():\n",
    "    import pkg_resources\n",
    "    pkg_resources.require(\"scipy==1.5.3\")\n",
    "    import scipy\n",
    "    print(scipy.__version__)\n",
    "    \n",
    "scipy_version()"
   ]
  },
  {
   "cell_type": "markdown",
   "metadata": {},
   "source": [
    "## Dataset\n",
    "\n",
    "##### Dataset Information\n",
    "\n",
    "Human Connectome Project Young Adult (HCP-YA)\n",
    "- https://www.humanconnectome.org/study/hcp-young-adult\n",
    "\n",
    "Using Human Connectome Project Young Adult (HCP-YA) 1200 Subject Release:\n",
    "- https://www.humanconnectome.org/study/hcp-young-adult/document/1200-subjects-data-release\n",
    "\n",
    "    Release Reference Manual:\n",
    "    - https://www.humanconnectome.org/storage/app/media/documentation/s1200/HCP_S1200_Release_Reference_Manual.pdf"
   ]
  },
  {
   "cell_type": "code",
   "execution_count": 158,
   "metadata": {},
   "outputs": [],
   "source": [
    "def _get_subjects():\n",
    "    \"\"\"\n",
    "    Helper function to identify HCP-YA subjects that have been processed by pyAFQ\n",
    "    \"\"\"\n",
    "    import s3fs\n",
    "    \n",
    "    fs = s3fs.S3FileSystem()\n",
    "    \n",
    "    return [f.split('sub-')[1] for f in fs.glob('hcp.afq/derivatives/afq/sub-*')]"
   ]
  },
  {
   "cell_type": "markdown",
   "metadata": {},
   "source": [
    "#### `nodes.csv`\n",
    "\n",
    "Download and combine all HCP-YA 1200 Subject pyAFQ bundle profiles from `hcp.afq` S3 repository"
   ]
  },
  {
   "cell_type": "code",
   "execution_count": 159,
   "metadata": {},
   "outputs": [],
   "source": [
    "def _generate_nodes_csv(callsum_only=False):\n",
    "    \"\"\"\n",
    "    genearate `nodes.csv` from HCP-YA pyAFQ bundle profiles.\n",
    "    \"\"\"\n",
    "    import s3fs\n",
    "    import os\n",
    "    from os.path import exists\n",
    "    import pandas as pd\n",
    "    \n",
    "    if exists('nodes.csv'):\n",
    "        print('nodes.csv already exists! to regenerate delete file and rerun.')\n",
    "        return\n",
    "\n",
    "    fs = s3fs.S3FileSystem()\n",
    "\n",
    "    dfs = []\n",
    "    \n",
    "    subjects = _get_subjects()\n",
    "        \n",
    "    os.makedirs('hcp.afq/test', exist_ok=True)\n",
    "    \n",
    "    for subject in subjects:\n",
    "        # NOTE assuming one session\n",
    "        fname = f'sub-{subject}_dwi_space-RASMM_model-CSD_desc-prob-afq_profiles.csv'\n",
    "        local_fname = f'hcp.afq/test/{fname}'\n",
    "        \n",
    "        if not exists(local_fname):\n",
    "            if fs.ls(f'hcp.afq/derivatives/afq/sub-{subject}/ses-01/{fname}'):\n",
    "                fs.get(\n",
    "                    f'hcp.afq/derivatives/afq/sub-{subject}/ses-01/{fname}',\n",
    "                    local_fname\n",
    "                )\n",
    "        \n",
    "        if exists(local_fname):\n",
    "            profiles = pd.read_csv(local_fname, index_col=[0])\n",
    "            profiles.insert(0, 'subjectID', subject)\n",
    "        \n",
    "            dfs.append(profiles)\n",
    "        \n",
    "    combined_df = pd.concat(dfs)\n",
    "    \n",
    "    # filter the available tracts to only those in callosum\n",
    "    if callsum_only:\n",
    "        combined_df = combined_df[combined_df.tractID.isin(['AntFrontal', 'Motor', 'Occipital', 'Orbital',\n",
    "           'PostParietal', 'SupFrontal', 'SupParietal', 'Temporal'])]\n",
    "\n",
    "    combined_df.reset_index(inplace=True, drop=True)\n",
    "    combined_df.to_csv('nodes.csv', index=False)"
   ]
  },
  {
   "cell_type": "code",
   "execution_count": 161,
   "metadata": {},
   "outputs": [],
   "source": [
    "_generate_nodes_csv()"
   ]
  },
  {
   "cell_type": "markdown",
   "metadata": {},
   "source": [
    "#### `subjects.csv`\n",
    "\n",
    "##### HCP-YA 1200 Subject Behavioral Data\n",
    "\n",
    "**NOTE you must have access to HCP dataset**\n",
    "\n",
    "To get access \"Create an Account\":\n",
    "- https://db.humanconnectome.org/\n",
    "\n",
    "**NOTE you must manually download the behavoiral data locally**\n",
    "\n",
    "Data Dictonary:\n",
    "- https://wiki.humanconnectome.org/display/PublicData/HCP-YA+Data+Dictionary-+Updated+for+the+1200+Subject+Release\n",
    "\n",
    "**WARNING: Potential file name collision.** \n",
    "  \n",
    "  - This `subjects.csv` is different from the `HCP-YA-XGBoost.ipynb` `subjects.csv` as it contains only the reading behavioral trait."
   ]
  },
  {
   "cell_type": "code",
   "execution_count": 167,
   "metadata": {},
   "outputs": [],
   "source": [
    "def _generate_subjects_csv():\n",
    "    \"\"\"\n",
    "    generate `subjects.csv` from entire HCP-YA behavioral data\n",
    "    \"\"\"\n",
    "    import os\n",
    "    from os.path import exists\n",
    "    import errno\n",
    "    import pandas as pd\n",
    "    \n",
    "    if exists('subjects.csv'):\n",
    "        print('subjects.csv already exists! to regenerate delete file and rerun.')\n",
    "        return\n",
    "        \n",
    "    if not exists('unrestricted_1200_behavioral.csv'):\n",
    "        raise FileNotFoundError(\n",
    "            errno.ENOENT, os.strerror(errno.ENOENT),\n",
    "            'unrestricted_1200_behavioral.csv'\n",
    "        )\n",
    "        \n",
    "    subjects = _get_subjects()\n",
    "    \n",
    "    df = pd.read_csv('unrestricted_1200_behavioral.csv', usecols=['Subject', 'ReadEng_Unadj'])\n",
    "    # ensure subjects match with HCP-YA pyAFQ processing\n",
    "    df = df[df['Subject'].isin(list(map(int, subjects)))]\n",
    "    df = df.rename(columns={'Subject': 'subjectID'})\n",
    "    df.to_csv(\"subjects.csv\", index=False)"
   ]
  },
  {
   "cell_type": "code",
   "execution_count": 168,
   "metadata": {},
   "outputs": [
    {
     "name": "stderr",
     "output_type": "stream",
     "text": [
      "distributed.core - INFO - Event loop was unresponsive in Nanny for 3.82s.  This is often caused by long-running GIL-holding functions or moving large chunks of data. This can cause timeouts and instability.\n",
      "distributed.core - INFO - Event loop was unresponsive in Nanny for 3.82s.  This is often caused by long-running GIL-holding functions or moving large chunks of data. This can cause timeouts and instability.\n",
      "distributed.core - INFO - Event loop was unresponsive in Scheduler for 3.82s.  This is often caused by long-running GIL-holding functions or moving large chunks of data. This can cause timeouts and instability.\n",
      "distributed.core - INFO - Event loop was unresponsive in Nanny for 3.61s.  This is often caused by long-running GIL-holding functions or moving large chunks of data. This can cause timeouts and instability.\n",
      "distributed.core - INFO - Event loop was unresponsive in Nanny for 3.61s.  This is often caused by long-running GIL-holding functions or moving large chunks of data. This can cause timeouts and instability.\n",
      "distributed.core - INFO - Event loop was unresponsive in Scheduler for 3.60s.  This is often caused by long-running GIL-holding functions or moving large chunks of data. This can cause timeouts and instability.\n"
     ]
    }
   ],
   "source": [
    "_generate_subjects_csv()"
   ]
  },
  {
   "cell_type": "markdown",
   "metadata": {},
   "source": [
    "### Baseline"
   ]
  },
  {
   "cell_type": "markdown",
   "metadata": {
    "tags": []
   },
   "source": [
    "Following SGL examples:\n",
    "- https://github.com/richford/afq-insight-paper/tree/main/notebooks\n",
    "- https://richiehalford.org/AFQ-Insight/auto_examples/plot_age_regression.html#sphx-glr-auto-examples-plot-age-regression-py"
   ]
  },
  {
   "cell_type": "raw",
   "metadata": {},
   "source": [
    "def sgl_reading_regression():\n",
    "    import afqinsight as afqi\n",
    "    \n",
    "    from sklearn.model_selection import cross_validate, cross_val_predict\n",
    "    \n",
    "    X, y, groups, feature_names, group_names, subjects, *_ = afqi.load_afq_data(\n",
    "        '.',\n",
    "        target_cols=['ReadEng_Unadj'],\n",
    "        dwi_metrics=['dki_fa', 'dki_md', 'dki_mk', 'dki_awf']\n",
    "    )\n",
    "    \n",
    "#     display(X.shape, y.shape) # (1041, 3200)\n",
    "#     display(group_names) # ('dki_awf', 'AntFrontal'), ....\n",
    "    \n",
    "    pipe = afqi.make_afq_regressor_pipeline(\n",
    "        imputer_kwargs={\"strategy\": \"median\"},  # Use median imputation\n",
    "        use_cv_estimator=True,  # Automatically determine the best hyperparameters\n",
    "        scaler=\"standard\",  # Standard scale the features before regression\n",
    "        groups=groups,\n",
    "        verbose=0,  # Be quiet!\n",
    "        pipeline_verbosity=False,  # No really, be quiet!\n",
    "        tuning_strategy=\"bayes\",  # Use BayesSearchCV to determine the optimal hyperparameters\n",
    "        n_bayes_iter=10,  # Consider only this many points in hyperparameter space\n",
    "        cv=3,  # Use three CV splits to evaluate each hyperparameter combination\n",
    "        l1_ratio=[0.0, 1.0],  # Explore the entire range of ``l1_ratio``\n",
    "        eps=5e-2,  # This is the ratio of the smallest to largest ``alpha`` value\n",
    "        tol=1e-2,  # Set a lenient convergence tolerance just for this example\n",
    "    )\n",
    "    \n",
    "#     display(pipe)\n",
    "    \n",
    "    scores = cross_validate(\n",
    "        pipe, X, y, cv=5, return_train_score=True, return_estimator=True\n",
    "#         , scoring=['r2', 'neg_median_absolute_error']\n",
    "    )\n",
    "\n",
    "    y_pred = cross_val_predict(pipe, X, y, n_jobs=-1, verbose=0)\n",
    "    \n",
    "\n",
    "    import matplotlib.pyplot as plt\n",
    "    fig, ax = plt.subplots()\n",
    "    ax.plot([y.min(), y.max()],\n",
    "            [y.min(), y.max()],\n",
    "            '--r', linewidth=2)\n",
    "    ax.scatter(y, y_pred, alpha=0.2)\n",
    "    plt.show()\n",
    "    \n",
    "    return scores"
   ]
  },
  {
   "cell_type": "raw",
   "metadata": {},
   "source": [
    "scores = sgl_reading_regression()"
   ]
  },
  {
   "cell_type": "raw",
   "metadata": {},
   "source": [
    "def sgl_stats(scores):\n",
    "    import numpy as np\n",
    "    \n",
    "    print(scores)\n",
    "    print(f\"Mean train score: {np.mean(scores['train_score']):5.3f}\")\n",
    "    print(f\"Mean test score:  {np.mean(scores['test_score']):5.3f}\")\n",
    "    print(f\"Mean fit time:    {np.mean(scores['fit_time']):5.2f}s\")\n",
    "    print(f\"Mean score time:  {np.mean(scores['score_time']):5.2f}s\")"
   ]
  },
  {
   "cell_type": "raw",
   "metadata": {},
   "source": [
    "sgl_stats(scores)"
   ]
  },
  {
   "cell_type": "markdown",
   "metadata": {},
   "source": [
    "### Model\n",
    "\n",
    "Taken from:\n",
    "\n",
    "- https://github.com/nrdg/dhcp_afq/blob/master/sgl_age_regression.ipynb"
   ]
  },
  {
   "cell_type": "raw",
   "metadata": {},
   "source": [
    "!conda install dask -y"
   ]
  },
  {
   "cell_type": "code",
   "execution_count": 4,
   "metadata": {},
   "outputs": [
    {
     "name": "stderr",
     "output_type": "stream",
     "text": [
      "distributed.http.proxy - INFO - To route to workers diagnostics web server please install jupyter-server-proxy: python -m pip install jupyter-server-proxy\n",
      "distributed.scheduler - INFO - Clear task state\n",
      "distributed.scheduler - INFO -   Scheduler at:     tcp://127.0.0.1:62820\n",
      "distributed.scheduler - INFO -   dashboard at:            127.0.0.1:8787\n",
      "distributed.nanny - INFO -         Start Nanny at: 'tcp://127.0.0.1:62822'\n",
      "distributed.nanny - INFO -         Start Nanny at: 'tcp://127.0.0.1:62823'\n",
      "distributed.scheduler - INFO - Register worker <WorkerState 'tcp://127.0.0.1:62825', name: 0, memory: 0, processing: 0>\n",
      "distributed.scheduler - INFO - Starting worker compute stream, tcp://127.0.0.1:62825\n",
      "distributed.core - INFO - Starting established connection\n",
      "distributed.scheduler - INFO - Register worker <WorkerState 'tcp://127.0.0.1:62824', name: 1, memory: 0, processing: 0>\n",
      "distributed.scheduler - INFO - Starting worker compute stream, tcp://127.0.0.1:62824\n",
      "distributed.core - INFO - Starting established connection\n",
      "distributed.scheduler - INFO - Receive client connection: Client-32d1a81c-e415-11eb-95c2-acbc32b281bd\n",
      "distributed.core - INFO - Starting established connection\n"
     ]
    },
    {
     "name": "stdout",
     "output_type": "stream",
     "text": [
      "http://127.0.0.1:8787/status\n"
     ]
    }
   ],
   "source": [
    "from dask.distributed import Client, LocalCluster\n",
    "import logging\n",
    "\n",
    "cluster = LocalCluster(\n",
    "    n_workers=2,\n",
    "    threads_per_worker=4,\n",
    "    silence_logs=logging.DEBUG\n",
    ")\n",
    "\n",
    "client = Client(cluster, heartbeat_interval=10000)\n",
    "print(client.dashboard_link)"
   ]
  },
  {
   "cell_type": "code",
   "execution_count": 7,
   "metadata": {},
   "outputs": [],
   "source": [
    "def get_cv_results(n_repeats=5, n_splits=10,\n",
    "                   power_transformer=False, \n",
    "                   shuffle=False,\n",
    "                   ensembler=None,\n",
    "                   target_transform_func=None,\n",
    "                   target_transform_inverse_func=None,\n",
    "                   n_estimators=10,\n",
    "                   trim_nodes=0,\n",
    "                   square_features=False):\n",
    "    import afqinsight as afqi\n",
    "    import numpy as np\n",
    "    from sklearn.model_selection import RepeatedKFold\n",
    "    from sklearn.metrics import median_absolute_error, r2_score\n",
    "    from datetime import datetime\n",
    "    import joblib\n",
    "    \n",
    "    X, y, groups, feature_names, group_names, subjects, *_ = afqi.load_afq_data(\n",
    "        '.',\n",
    "        target_cols=['ReadEng_Unadj'],\n",
    "        dwi_metrics=['dki_fa', 'dki_md', 'dki_mk', 'dki_awf']\n",
    "    )\n",
    "    \n",
    "    if shuffle:\n",
    "        rng = np.random.default_rng()\n",
    "        y_fit = rng.permutation(y)\n",
    "    else:\n",
    "        y_fit = np.copy(y)\n",
    "        \n",
    "    if trim_nodes > 0:\n",
    "        grp_mask = np.zeros_like(groups[0], dtype=bool)\n",
    "        grp_mask[trim_nodes:-trim_nodes] = True\n",
    "        X_mask = np.concatenate([grp_mask] * len(groups))\n",
    "\n",
    "        groups_trim = []\n",
    "        start_idx = 0\n",
    "        \n",
    "        for grp in groups:\n",
    "            stop_idx = start_idx + len(grp) - 2 * trim_nodes\n",
    "            groups_trim.append(np.arange(start_idx, stop_idx))\n",
    "            start_idx += len(grp) - 2 * trim_nodes\n",
    "            \n",
    "        X_trim = X[:, X_mask]\n",
    "    elif trim_nodes == 0:\n",
    "        groups_trim = [grp for grp in groups]\n",
    "        X_trim = np.copy(X)\n",
    "    else:\n",
    "        raise ValueError(\"trim_nodes must be non-negative.\")\n",
    "        \n",
    "    if square_features:\n",
    "        _n_samples, _n_features = X_trim.shape\n",
    "        X_trim = np.hstack([X_trim, np.square(X_trim)])\n",
    "        groups_trim = [np.concatenate([g, g + _n_features]) for g in groups_trim]\n",
    "    \n",
    "    cv = RepeatedKFold(\n",
    "        n_splits=n_splits,\n",
    "        n_repeats=n_repeats,\n",
    "        random_state=1729\n",
    "    )\n",
    "\n",
    "    cv_results = {}\n",
    "    pipe_skopt = afqi.make_afq_regressor_pipeline(\n",
    "        imputer_kwargs={\"strategy\": \"median\"},\n",
    "        use_cv_estimator=True,\n",
    "        feature_transformer=power_transformer,\n",
    "        scaler=\"standard\",\n",
    "        groups=groups_trim,\n",
    "        verbose=0,\n",
    "        pipeline_verbosity=False,\n",
    "        tuning_strategy=\"bayes\",\n",
    "        cv=3,\n",
    "        n_bayes_points=9,\n",
    "        n_jobs=28,\n",
    "        l1_ratio=[0.0, 1.0],\n",
    "        eps=5e-2,\n",
    "        n_alphas=100,\n",
    "        ensemble_meta_estimator=ensembler,\n",
    "        ensemble_meta_estimator_kwargs={\n",
    "            \"n_estimators\": n_estimators,\n",
    "            \"n_jobs\": 1,\n",
    "            \"oob_score\": True,\n",
    "            \"random_state\": 1729,\n",
    "        },\n",
    "        target_transform_func=target_transform_func,\n",
    "        target_transform_inverse_func=target_transform_inverse_func,\n",
    "    )\n",
    "\n",
    "    for cv_idx, (train_idx, test_idx) in enumerate(cv.split(X_trim, y_fit)):\n",
    "        start = datetime.now()\n",
    "\n",
    "        X_train, X_test = X_trim[train_idx], X_trim[test_idx]\n",
    "        y_train, y_test = y_fit[train_idx], y_fit[test_idx]\n",
    "\n",
    "        with joblib.parallel_backend(\"dask\"):\n",
    "            pipe_skopt.fit(X_train, y_train)\n",
    "\n",
    "        cv_results[cv_idx] = {\n",
    "            \"pipeline\": pipe_skopt,\n",
    "            \"train_idx\": train_idx,\n",
    "            \"test_idx\": test_idx,\n",
    "            \"y_pred\": pipe_skopt.predict(X_test),\n",
    "            \"y_true\": y_test,\n",
    "            \"test_mae\": median_absolute_error(y_test, pipe_skopt.predict(X_test)),\n",
    "            \"train_mae\": median_absolute_error(y_train, pipe_skopt.predict(X_train)),\n",
    "            \"test_r2\": r2_score(y_test, pipe_skopt.predict(X_test)),\n",
    "            \"train_r2\": r2_score(y_train, pipe_skopt.predict(X_train)),\n",
    "        }\n",
    "        \n",
    "        if ((target_transform_func is not None)\n",
    "            or (target_transform_inverse_func is not None)):\n",
    "            cv_results[cv_idx][\"coefs\"] = [\n",
    "                est.coef_ for est\n",
    "                in pipe_skopt.named_steps[\"estimate\"].regressor_.estimators_\n",
    "            ]\n",
    "            cv_results[cv_idx][\"alpha\"] = [\n",
    "                est.alpha_ for est\n",
    "                in pipe_skopt.named_steps[\"estimate\"].regressor_.estimators_\n",
    "            ]\n",
    "            cv_results[cv_idx][\"l1_ratio\"] = [\n",
    "                est.l1_ratio_ for est\n",
    "                in pipe_skopt.named_steps[\"estimate\"].regressor_.estimators_\n",
    "            ]\n",
    "        else:\n",
    "            cv_results[cv_idx][\"coefs\"] = [\n",
    "                est.coef_ for est\n",
    "                in pipe_skopt.named_steps[\"estimate\"].estimators_\n",
    "            ]\n",
    "            cv_results[cv_idx][\"alpha\"] = [\n",
    "                est.alpha_ for est\n",
    "                in pipe_skopt.named_steps[\"estimate\"].estimators_\n",
    "            ]\n",
    "            cv_results[cv_idx][\"l1_ratio\"] = [\n",
    "                est.l1_ratio_ for est\n",
    "                in pipe_skopt.named_steps[\"estimate\"].estimators_\n",
    "            ]\n",
    "        \n",
    "        if ensembler is None:\n",
    "            if ((target_transform_func is not None)\n",
    "                or (target_transform_inverse_func is not None)):\n",
    "                cv_results[cv_idx][\"optimizer\"] = pipe_skopt.named_steps[\"estimate\"].regressor_.bayes_optimizer_                \n",
    "            else:\n",
    "                cv_results[cv_idx][\"optimizer\"] = pipe_skopt.named_steps[\"estimate\"].bayes_optimizer_\n",
    "\n",
    "        print(f\"CV index [{cv_idx:3d}], Elapsed time: \", datetime.now() - start)\n",
    "        \n",
    "    return cv_results, y_fit"
   ]
  },
  {
   "cell_type": "code",
   "execution_count": 8,
   "metadata": {},
   "outputs": [
    {
     "name": "stdout",
     "output_type": "stream",
     "text": [
      "CV index [  0], Elapsed time:  5:20:23.853987\n",
      "CV index [  1], Elapsed time:  5:30:01.494123\n",
      "CV index [  2], Elapsed time:  6:14:51.342470\n",
      "CV index [  3], Elapsed time:  9:24:21.754107\n",
      "CV index [  4], Elapsed time:  10:36:27.976288\n"
     ]
    }
   ],
   "source": [
    "results = get_cv_results(\n",
    "        n_splits=5, n_repeats=1, power_transformer=False,\n",
    "        ensembler=\"serial-bagging\", shuffle=False, n_estimators=20,\n",
    "        trim_nodes=0, square_features=False)"
   ]
  },
  {
   "cell_type": "code",
   "execution_count": 9,
   "metadata": {},
   "outputs": [],
   "source": [
    "def save_cv_results(results, fname):\n",
    "    import pickle\n",
    "    \n",
    "    with open(fname, \"wb\") as fp:\n",
    "        pickle.dump(results, fp)\n",
    "        \n",
    "save_cv_results(results, 'sgl_hcp_1200_dki_reading_regression_all_bundles.pkl')"
   ]
  },
  {
   "cell_type": "code",
   "execution_count": 147,
   "metadata": {},
   "outputs": [
    {
     "data": {
      "image/png": "[encoded data removed]",
      "text/plain": [
       "<Figure size 432x288 with 1 Axes>"
      ]
     },
     "metadata": {
      "needs_background": "light"
     },
     "output_type": "display_data"
    }
   ],
   "source": [
    "def plot_results(results):\n",
    "    import matplotlib.pyplot as plt\n",
    "    fig, ax = plt.subplots()\n",
    "    for cv in results[0].keys():\n",
    "        ax.scatter(results[0][cv]['y_true'], results[0][cv]['y_pred'], label=f'cv {cv}')\n",
    "        ax.plot([y.min(), y.max()],\n",
    "            [y.min(), y.max()],\n",
    "            '--r', linewidth=2)\n",
    "        ax.set_xlabel('true')\n",
    "        ax.set_ylabel('predicted')\n",
    "        ax.set_title('ReadEng_Unadj regression: all bundles')\n",
    "        ax.legend()\n",
    "    plt.show()\n",
    "    \n",
    "plot_results(results)"
   ]
  },
  {
   "cell_type": "markdown",
   "metadata": {},
   "source": [
    "- Smaller predicted variance is indication of over regularization\n",
    "\n",
    "**NOTE** could scale model predictions so more accurate (but ideally model should learn variance)"
   ]
  },
  {
   "cell_type": "code",
   "execution_count": 151,
   "metadata": {},
   "outputs": [
    {
     "name": "stdout",
     "output_type": "stream",
     "text": [
      "train 0.09852847962954728\n",
      "test 0.03629903755470283\n"
     ]
    }
   ],
   "source": [
    "def score_results(results):\n",
    "    import numpy as np\n",
    "    print(\"train\", np.mean([results[0][cv]['train_r2'] for cv in results[0].keys()]))\n",
    "    print(\"test\", np.mean([results[0][cv]['test_r2'] for cv in results[0].keys()]))\n",
    "    \n",
    "score_results(results)"
   ]
  },
  {
   "cell_type": "markdown",
   "metadata": {},
   "source": [
    "**NOTE** ~3.5% variance explained is reasonable for HCP dataset \n",
    "\n",
    "- Rasero et al 2021. _Integrating across neuroimaging modalities boosts prediction accuracy of cognitive ability_\n",
    "  https://journals.plos.org/ploscompbiol/article?id=10.1371/journal.pcbi.1008347"
   ]
  },
  {
   "cell_type": "markdown",
   "metadata": {},
   "source": [
    "#### Model Coefficients"
   ]
  },
  {
   "cell_type": "code",
   "execution_count": 104,
   "metadata": {},
   "outputs": [],
   "source": [
    "import afqinsight as afqi\n",
    "\n",
    "X, y, groups, feature_names, group_names, subjects, *_ = afqi.load_afq_data(\n",
    "    '.',\n",
    "    target_cols=['ReadEng_Unadj'],\n",
    "    dwi_metrics=['dki_fa', 'dki_md', 'dki_mk', 'dki_awf']\n",
    ")"
   ]
  },
  {
   "cell_type": "code",
   "execution_count": 141,
   "metadata": {},
   "outputs": [
    {
     "data": {
      "image/png": "[encoded data removed]",
      "text/plain": [
       "<Figure size 2592x1296 with 4 Axes>"
      ]
     },
     "metadata": {
      "needs_background": "light"
     },
     "output_type": "display_data"
    }
   ],
   "source": [
    "def model_coeffcients(results, groups, group_names):\n",
    "    import numpy as np\n",
    "    import matplotlib.pyplot as plt\n",
    "    import seaborn as sns\n",
    "  \n",
    "    # 5 cvs\n",
    "    # 20 estimators\n",
    "    # 24 bundles x 4 metrics = 96 x 100 nodes = 9600 coefficients\n",
    "\n",
    "    # average coeficents across cvs and estimators, 24 bundles x 4 scalars x 100 nodes\n",
    "    coef_avg = np.mean(\n",
    "        [\n",
    "            np.mean(\n",
    "                np.array(results[0][cv]['coefs']),\n",
    "                axis=0\n",
    "            )\n",
    "            for cv in results[0].keys()\n",
    "        ],\n",
    "        axis=0\n",
    "    )\n",
    "    \n",
    "    scalars = ['dki_fa', 'dki_md', 'dki_mk', 'dki_awf']\n",
    "    bundle_names = [grp_name[1] for grp_name in group_names[:24]]\n",
    "    bundle_colors = sns.color_palette(n_colors=24)\n",
    "    \n",
    "    fig, axs = plt.subplots(nrows=len(scalars), sharex=True, sharey=True, figsize=(36,18))\n",
    "    \n",
    "    axs = axs.ravel()\n",
    "    \n",
    "    for i in range(len(scalars)):\n",
    "        axs[i].set_title(scalars[i])\n",
    "        sns.lineplot(\n",
    "            ax=axs[i],\n",
    "            data=coef_avg[2400*i:2400*(i+1)],\n",
    "            color='k'\n",
    "        )\n",
    "        axs[i].set_xticks((np.array(range(len(bundle_names)))*100)+50)\n",
    "        axs[i].set_xticklabels(bundle_names, rotation = 90, ha='center')\n",
    "        axs[i].set_ylabel(r\"$\\hat{\\beta}$\", fontsize=16)\n",
    "        for grp, grp_name, grp_color in zip(groups[:24], group_names[:24], bundle_colors):\n",
    "            axs[i].axvspan(grp.min(), grp.max() + 1, color=grp_color, alpha=0.75, label=grp_name[1])\n",
    "\n",
    "    plt.show()\n",
    "    \n",
    "model_coeffcients(results, groups, group_names)"
   ]
  },
  {
   "cell_type": "markdown",
   "metadata": {},
   "source": [
    "**TODO**\n",
    "\n",
    "- [ ] Use only callosal data (to compare with `callosum.ipynb`)\n",
    "\n",
    "_SGL_\n",
    "\n",
    "- [x] Get model coeffiecients -- https://richiehalford.org/AFQ-Insight/auto_examples/plot_age_regression.html#sphx-glr-auto-examples-plot-age-regression-py\n",
    "\n",
    "- [ ] Use PCR and SGL? (**Follow up** this performed worse on HCP data in AFQ Insight paper)\n",
    "\n",
    "- [ ] (Jason) Concerns over standardization -- if normalizing to mean zero then loosing some informatiion - ensure add mean (**Reconfirm representation**)\n",
    "    \n",
    "  - [ ] (Jason) Add column mean transformer DKI in AFQ insight for each bundle (**Clarification**)\n",
    "  \n",
    "- [ ] Run SGL on every behavioral predictor in HCP-YA?\n",
    "\n",
    "_XGBoost_\n",
    "\n",
    "- [x] XGBoost with behavioral predictors (see `HCP-YA-XGBoost.ipynb`)\n",
    "\n",
    "_LASSO_\n",
    "\n",
    "- [ ] Use straight scikit learns LASSO CV (see adams' afq-insight-paper notebooks)\n",
    "\n",
    "_other_\n",
    "\n",
    "- (Ariel) encoding/decoding behavior and dki profiles\n",
    "\n",
    "**Validation:**\n",
    "\n",
    "- [x] Compare model coefficients to XGBoost feature importance\n",
    "\n",
    "    - Identifying some of same bundle and scalars, but not same nodes nor same importance to model...  \n",
    "\n",
    "- [ ] Shuffle data see if predict same variance\n",
    "\n",
    "- [ ] Remove certian bundles (e.g. PostParietal) data see effects"
   ]
  },
  {
   "cell_type": "code",
   "execution_count": null,
   "metadata": {},
   "outputs": [],
   "source": []
  }
 ],
 "metadata": {
  "kernelspec": {
   "display_name": "Python 3",
   "language": "python",
   "name": "python3"
  },
  "language_info": {
   "codemirror_mode": {
    "name": "ipython",
    "version": 3
   },
   "file_extension": ".py",
   "mimetype": "text/x-python",
   "name": "python",
   "nbconvert_exporter": "python",
   "pygments_lexer": "ipython3",
   "version": "3.8.10"
  }
 },
 "nbformat": 4,
 "nbformat_minor": 4
}
